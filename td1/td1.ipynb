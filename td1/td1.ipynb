{
 "cells": [
  {
   "cell_type": "code",
   "execution_count": 26,
   "id": "d2294857-bd17-498d-9b50-8045a2bb2053",
   "metadata": {},
   "outputs": [
    {
     "name": "stdin",
     "output_type": "stream",
     "text": [
      "entrez votre note 17\n"
     ]
    },
    {
     "name": "stdout",
     "output_type": "stream",
     "text": [
      "Mention très Bien\n"
     ]
    }
   ],
   "source": [
    "note = int(input(\"entrez votre note\"))\n",
    "mention = str('')\n",
    "if note<12:\n",
    "    mention = 'Pas de mention'\n",
    "elif note<=14 & note>=12:\n",
    "    mention = 'Mention Assez Bien'\n",
    "elif note<16 & note>=14:\n",
    "    mention = \"Mention Bien\"\n",
    "elif note>=16:\n",
    "    mention = \"Mention très Bien\"\n",
    "print(mention)"
   ]
  },
  {
   "cell_type": "code",
   "execution_count": 34,
   "id": "ae24f4da-12ea-4f63-9ad0-ca1409881b6a",
   "metadata": {},
   "outputs": [
    {
     "name": "stdin",
     "output_type": "stream",
     "text": [
      "entrez votre premier mot loe\n",
      "entrez votre second mot lao\n",
      "entrez votre troisième mot lis\n"
     ]
    },
    {
     "name": "stdout",
     "output_type": "stream",
     "text": [
      "Le mot le plus long est :loe, lao, lis\n"
     ]
    }
   ],
   "source": [
    "mot1 = str(input(\"entrez votre premier mot\"))\n",
    "mot2 = str(input(\"entrez votre second mot\"))\n",
    "mot3 = str(input(\"entrez votre troisième mot\"))\n",
    "motlepluslong=\"\"\n",
    "if len(mot1)>len(mot2):\n",
    "    motlepluslong=mot1\n",
    "else:\n",
    "    motlepluslong=mot2\n",
    "if len(motlepluslong)<len(mot3):\n",
    "    motlepluslong=mot3\n",
    "\n",
    "if len(mot1)==len(mot2) & len(mot3) == len(mot1):\n",
    "    motlepluslong= mot1 + \", \" + mot2 + \", \" + mot3\n",
    "elif len(mot3) == len(mot1):\n",
    "    motlepluslong = mot1 + \", \"+ mot3\n",
    "elif len(mot3) == len(mot2):\n",
    "    motlepluslong = mot2 + \", \"+ mot3\n",
    "elif len(mot2) == len(mot1):\n",
    "    motlepluslong = mot1 + \", \"+ mot2\n",
    "    \n",
    "print(\"Le mot le plus long est :\" + motlepluslong)"
   ]
  },
  {
   "cell_type": "code",
   "execution_count": 47,
   "id": "2b4344ba-18fe-45c4-ada8-475a7bd90574",
   "metadata": {},
   "outputs": [
    {
     "name": "stdout",
     "output_type": "stream",
     "text": [
      "6\n",
      "Hugo\n",
      "Zola\n",
      "Flaubert\n",
      "Camus\n",
      "Apollinaire\n",
      "Corneille\n",
      "\n",
      "Mots de plus de 4 charactères: \n",
      "Apollinaire\n",
      "Camus\n",
      "Corneille\n",
      "Flaubert\n",
      "\n",
      "Mots commençant par C: \n",
      "Camus\n",
      "Corneille\n",
      "Apollinaire\n",
      "Camus\n",
      "Corneille\n",
      "Flaubert\n",
      "Hugo\n",
      "JohnDoe\n"
     ]
    }
   ],
   "source": [
    "liste = [\"Hugo\", \"Zola\", \"Flaubert\", \"Camus\", \"Apollinaire\", \"Corneille\"]\n",
    "print(len(liste))\n",
    "for x in liste:\n",
    "    print(x)\n",
    "\n",
    "\n",
    "liste.sort()\n",
    "\n",
    "print(\"\\nMots de plus de 4 charactères: \")\n",
    "for x in liste:\n",
    "    if len(x)>4:\n",
    "        print(x)\n",
    "\n",
    "\n",
    "print(\"\\nMots commençant par C: \")\n",
    "for x in liste:\n",
    "    if x[0] == \"C\":\n",
    "        print(x)\n",
    "\n",
    "liste.append(\"JohnDoe\")\n",
    "liste.remove(\"Zola\")\n",
    "\n",
    "for x in liste:\n",
    "    print(x)"
   ]
  },
  {
   "cell_type": "code",
   "execution_count": 77,
   "id": "ef8c1de3-6df3-4896-9bb4-ea55c3456571",
   "metadata": {
    "scrolled": true
   },
   "outputs": [
    {
     "name": "stdout",
     "output_type": "stream",
     "text": [
      "Pierre 15\n",
      "note < 10 en anglais\n",
      "Jean 7\n",
      "Anne 9\n",
      "Jean\n",
      "[12, 15, 8, 7]\n",
      "10.5\n",
      "Anne\n",
      "[5, 7, 11, 9]\n",
      "8.0\n",
      "Pierre\n",
      "[17, 18, 15, 13]\n",
      "15.75\n",
      "Kelly\n",
      "[14, 15, 9, 19]\n",
      "14.25\n",
      "Paul\n",
      "[11, 10, 9, 12]\n",
      "10.5\n"
     ]
    }
   ],
   "source": [
    "eleves={\"Jean\":[12,15,8,7],\"Anne\":[5,7,11,9],\"Pierre\":[17,18,15,13],\"Kelly\":[14,15,9,19]}\n",
    "for x,y in eleves.items():\n",
    "    if y[2]>=15:\n",
    "        print(x,y[2])\n",
    "print(\"note < 10 en anglais\")\n",
    "for x,y in eleves.items():\n",
    "    if y[3]<10:\n",
    "        print(x,y[3])\n",
    "eleves[\"Paul\"]=[11,10,9,12]\n",
    "for x,y in eleves.items():\n",
    "    print(x)\n",
    "    print(y)\n",
    "    print(sum(y)/len(y))"
   ]
  },
  {
   "cell_type": "code",
   "execution_count": 22,
   "id": "0091c295-1a5e-4a8c-9b62-9d0d8400cbce",
   "metadata": {},
   "outputs": [
    {
     "name": "stdout",
     "output_type": "stream",
     "text": [
      "La moyenne est :13.0\n",
      "Les notes de Matt sont : [12, 13, 12, 13, 15]\n"
     ]
    }
   ],
   "source": [
    "class Eleve:\n",
    "    def __init__(self, nom, lnotes):\n",
    "        self.name = nom\n",
    "        self.notes = []  \n",
    "        for x in lnotes:\n",
    "            self.notes.append(x)\n",
    "            \n",
    "    def addNotes(self, lnotes):\n",
    "        if isinstance(lnotes, list):\n",
    "            self.notes.extend(lnotes)  \n",
    "        else:\n",
    "            self.notes.append(lnotes)  \n",
    "    \n",
    "    def moyenne(self):\n",
    "        if len(self.notes) > 0:\n",
    "            moyenne = sum(self.notes) / len(self.notes)\n",
    "            print(\"La moyenne est :\" + str(moyenne))\n",
    "            \n",
    "\n",
    "Matt = Eleve(\"Matt\", [12, 13])\n",
    "\n",
    "\n",
    "newNotes = [12, 13, 15]\n",
    "Matt.addNotes(newNotes)\n",
    "\n",
    "Matt.moyenne()\n",
    "print(f\"Les notes de {Matt.name} sont : {Matt.notes}\")\n"
   ]
  },
  {
   "cell_type": "code",
   "execution_count": 32,
   "id": "6006734d",
   "metadata": {},
   "outputs": [
    {
     "name": "stdout",
     "output_type": "stream",
     "text": [
      "75.39822368615503\n",
      "452.3893421169302\n"
     ]
    }
   ],
   "source": [
    "# Import math Library\n",
    "import math\n",
    "\n",
    "class Cercle:\n",
    "    def __init__(self,rayon):\n",
    "        self.rayon = rayon\n",
    "        \n",
    "    def perim(self):\n",
    "        print(2*math.pi*self.rayon)\n",
    "        \n",
    "    def aire(self):\n",
    "        print(self.rayon*self.rayon*math.pi)\n",
    "    \n",
    "rond = Cercle(12)\n",
    "\n",
    "rond.perim()\n",
    "rond.aire()"
   ]
  },
  {
   "cell_type": "code",
   "execution_count": null,
   "id": "5dc53b12",
   "metadata": {},
   "outputs": [],
   "source": []
  },
  {
   "cell_type": "code",
   "execution_count": null,
   "id": "d8519b9c",
   "metadata": {},
   "outputs": [],
   "source": []
  }
 ],
 "metadata": {
  "kernelspec": {
   "display_name": "Python 3 (ipykernel)",
   "language": "python",
   "name": "python3"
  },
  "language_info": {
   "codemirror_mode": {
    "name": "ipython",
    "version": 3
   },
   "file_extension": ".py",
   "mimetype": "text/x-python",
   "name": "python",
   "nbconvert_exporter": "python",
   "pygments_lexer": "ipython3",
   "version": "3.9.12"
  }
 },
 "nbformat": 4,
 "nbformat_minor": 5
}
